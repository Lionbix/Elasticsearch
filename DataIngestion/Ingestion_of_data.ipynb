{
 "cells": [
  {
   "cell_type": "code",
   "execution_count": 1,
   "metadata": {},
   "outputs": [],
   "source": [
    "import csv\n",
    "import json\n",
    "import pandas as pd\n",
    "from elasticsearch import helpers, Elasticsearch"
   ]
  },
  {
   "cell_type": "code",
   "execution_count": 2,
   "metadata": {},
   "outputs": [
    {
     "name": "stdout",
     "output_type": "stream",
     "text": [
      "Enter index name: dsgfd\n",
      "Enter file name with extension: trees.csv\n",
      "index : dsgfd!\n",
      "file : trees.csv!\n"
     ]
    }
   ],
   "source": [
    "index_name = input(\"Enter index name: \")\n",
    "filename =  input(\"Enter file name with extension: \")\n",
    "\n",
    "print(\"index :\", index_name + \"!\")\n",
    "print(\"file :\", filename + \"!\")"
   ]
  },
  {
   "cell_type": "code",
   "execution_count": 3,
   "metadata": {
    "scrolled": true
   },
   "outputs": [
    {
     "name": "stderr",
     "output_type": "stream",
     "text": [
      "/Users/thibautbizet/opt/anaconda3/lib/python3.7/site-packages/elasticsearch/connection/base.py:190: ElasticsearchDeprecationWarning: [types removal] Specifying types in document index requests is deprecated, use the typeless endpoints instead (/{index}/_doc/{id}, /{index}/_doc, or /{index}/_create/{id}).\n",
      "  warnings.warn(message, category=ElasticsearchDeprecationWarning)\n"
     ]
    },
    {
     "name": "stdout",
     "output_type": "stream",
     "text": [
      "1 line to ES done\n",
      "2 line to ES done\n",
      "3 line to ES done\n",
      "4 line to ES done\n",
      "5 line to ES done\n",
      "6 line to ES done\n",
      "7 line to ES done\n",
      "8 line to ES done\n",
      "9 line to ES done\n",
      "10 line to ES done\n",
      "11 line to ES done\n",
      "12 line to ES done\n",
      "13 line to ES done\n",
      "14 line to ES done\n",
      "15 line to ES done\n",
      "16 line to ES done\n",
      "17 line to ES done\n",
      "18 line to ES done\n",
      "19 line to ES done\n",
      "20 line to ES done\n",
      "21 line to ES done\n",
      "22 line to ES done\n",
      "23 line to ES done\n",
      "24 line to ES done\n",
      "25 line to ES done\n",
      "26 line to ES done\n",
      "27 line to ES done\n",
      "28 line to ES done\n",
      "29 line to ES done\n",
      "30 line to ES done\n",
      "31 line to ES done\n",
      "32 line to ES done\n",
      "33 line to ES done\n",
      "34 line to ES done\n",
      "35 line to ES done\n",
      "36 line to ES done\n",
      "37 line to ES done\n",
      "38 line to ES done\n",
      "39 line to ES done\n",
      "40 line to ES done\n",
      "41 line to ES done\n",
      "42 line to ES done\n",
      "43 line to ES done\n",
      "44 line to ES done\n",
      "45 line to ES done\n",
      "46 line to ES done\n",
      "47 line to ES done\n",
      "48 line to ES done\n",
      "49 line to ES done\n",
      "50 line to ES done\n",
      "51 line to ES done\n",
      "52 line to ES done\n",
      "53 line to ES done\n",
      "54 line to ES done\n",
      "55 line to ES done\n",
      "56 line to ES done\n",
      "57 line to ES done\n",
      "58 line to ES done\n",
      "59 line to ES done\n",
      "60 line to ES done\n",
      "61 line to ES done\n",
      "62 line to ES done\n",
      "63 line to ES done\n",
      "64 line to ES done\n",
      "65 line to ES done\n",
      "66 line to ES done\n",
      "67 line to ES done\n",
      "68 line to ES done\n",
      "69 line to ES done\n",
      "70 line to ES done\n",
      "71 line to ES done\n",
      "72 line to ES done\n",
      "73 line to ES done\n",
      "74 line to ES done\n",
      "75 line to ES done\n",
      "76 line to ES done\n",
      "77 line to ES done\n",
      "78 line to ES done\n",
      "79 line to ES done\n",
      "80 line to ES done\n",
      "81 line to ES done\n",
      "82 line to ES done\n",
      "83 line to ES done\n",
      "84 line to ES done\n",
      "85 line to ES done\n",
      "86 line to ES done\n",
      "87 line to ES done\n",
      "88 line to ES done\n",
      "89 line to ES done\n",
      "90 line to ES done\n",
      "91 line to ES done\n",
      "92 line to ES done\n",
      "93 line to ES done\n",
      "94 line to ES done\n",
      "95 line to ES done\n",
      "96 line to ES done\n"
     ]
    }
   ],
   "source": [
    "es = Elasticsearch([{'host': 'localhost', 'port': 9200}])\n",
    "cpt=1\n",
    "df = pd.read_csv(filename, sep=';')\n",
    "\n",
    "def csv_to_json(file,df,cpt):\n",
    "    cpt+=1\n",
    "    df = df.iloc[cpt-1:cpt,:]\n",
    "    json_data = df.to_json(orient='records')\n",
    "    json_data = json.loads(json_data)\n",
    "    with open(file+'.json', 'w+') as outfile:\n",
    "        json.dump(json_data, outfile,indent=4)\n",
    "    return (str(file)+\".json\")\n",
    "\n",
    "def csv_reader(file_name,cpt,index_name):\n",
    "    with open(file_name) as json_file:\n",
    "        json_docs = json.load(json_file)[0]\n",
    "        es.index(index=index_name, doc_type='type', id=cpt, body=json_docs)\n",
    "        print(cpt,\"line to ES done\")\n",
    "        \n",
    "for i in range(0,len(df)-1):\n",
    "    csv_reader(csv_to_json(filename.split(\".\")[0],df,cpt),cpt,index_name)\n",
    "    cpt+=1"
   ]
  },
  {
   "cell_type": "code",
   "execution_count": null,
   "metadata": {},
   "outputs": [],
   "source": []
  }
 ],
 "metadata": {
  "kernelspec": {
   "display_name": "Python 3",
   "language": "python",
   "name": "python3"
  },
  "language_info": {
   "codemirror_mode": {
    "name": "ipython",
    "version": 3
   },
   "file_extension": ".py",
   "mimetype": "text/x-python",
   "name": "python",
   "nbconvert_exporter": "python",
   "pygments_lexer": "ipython3",
   "version": "3.7.6"
  }
 },
 "nbformat": 4,
 "nbformat_minor": 4
}
